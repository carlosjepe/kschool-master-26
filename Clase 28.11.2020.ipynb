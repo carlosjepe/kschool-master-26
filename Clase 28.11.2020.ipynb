{
 "cells": [
  {
   "cell_type": "markdown",
   "metadata": {},
   "source": [
    "## Recordatorio clase anterior"
   ]
  },
  {
   "cell_type": "markdown",
   "metadata": {},
   "source": [
    "### Donde uso la lambda, podría usar el nombre de una función sin problema. Su función principal es la de poder escribir una función de forma simplificada."
   ]
  },
  {
   "cell_type": "markdown",
   "metadata": {},
   "source": [
    "### Las tuplas solo tienen dos métodos: count e index. Son la versión inmutable de las listas (no podemos asignar/eliminar posiciones de una tupla ni cambiar el objeto al que apuntan). Si el objeto al que apunta una tupla es mutable, este puede mutar, pero la tupla no."
   ]
  },
  {
   "cell_type": "markdown",
   "metadata": {},
   "source": [
    "### Lo de arriba viene a ser así: imaginemos que tenemos una tupla que sea (2, 7.14, [\"holi\", \"colegui\"]). En este caso, yo no puedo sacar el 2, el 7.14 o la lista que hay dentro. Lo que sí puedo hacer es cambiar lo que hay dentro de la lista, ya que esta sí es un objeto mutable."
   ]
  },
  {
   "cell_type": "markdown",
   "metadata": {},
   "source": [
    "### Los diccionarios son bastante fáciles. Básicamente tenemos una clase y un valor para esa clave. Solo puedo tener un valor para cada clave y tienen que ser de tipo no mutable."
   ]
  },
  {
   "cell_type": "markdown",
   "metadata": {},
   "source": [
    "### las List Comprehensions son como bucles \"for\", pero abreviados. Por otro lado, podemos hacer Dict Comprehension, que sería algo así:\n",
    "    \n",
    "(n : n ** 2 for n in numbers) ==> y lo que obtendremos aquí será como un diccionario donde veremos los números de \"numbers\" con su cuadrado al lado, seguido de dos puntos"
   ]
  }
 ],
 "metadata": {
  "kernelspec": {
   "display_name": "Python 3",
   "language": "python",
   "name": "python3"
  },
  "language_info": {
   "codemirror_mode": {
    "name": "ipython",
    "version": 3
   },
   "file_extension": ".py",
   "mimetype": "text/x-python",
   "name": "python",
   "nbconvert_exporter": "python",
   "pygments_lexer": "ipython3",
   "version": "3.7.1"
  }
 },
 "nbformat": 4,
 "nbformat_minor": 2
}
